{
  "nbformat": 4,
  "nbformat_minor": 0,
  "metadata": {
    "colab": {
      "provenance": []
    },
    "kernelspec": {
      "name": "python3",
      "display_name": "Python 3"
    },
    "language_info": {
      "name": "python"
    }
  },
  "cells": [
    {
      "cell_type": "code",
      "execution_count": null,
      "metadata": {
        "id": "2F2xS5YbuND2"
      },
      "outputs": [],
      "source": [
        "import numpy as np\n",
        "import pandas as pd"
      ]
    },
    {
      "cell_type": "markdown",
      "source": [
        "### Creating DataFrame"
      ],
      "metadata": {
        "id": "sdRBNhTluaKV"
      }
    },
    {
      "cell_type": "code",
      "source": [
        "# using lists"
      ],
      "metadata": {
        "id": "FAC5HfAaub7q"
      },
      "execution_count": null,
      "outputs": []
    },
    {
      "cell_type": "code",
      "source": [
        "# using dicts"
      ],
      "metadata": {
        "id": "StK0mYCHudKC"
      },
      "execution_count": null,
      "outputs": []
    },
    {
      "cell_type": "code",
      "source": [
        "# using read_csv"
      ],
      "metadata": {
        "id": "EF_2ly2HuePm"
      },
      "execution_count": null,
      "outputs": []
    },
    {
      "cell_type": "markdown",
      "source": [
        "### DataFrame Attributes and Methods"
      ],
      "metadata": {
        "id": "WpiZf0HmvGkY"
      }
    },
    {
      "cell_type": "code",
      "source": [
        "# shape"
      ],
      "metadata": {
        "id": "IWTFNOmavKGd"
      },
      "execution_count": null,
      "outputs": []
    },
    {
      "cell_type": "code",
      "source": [
        "# dtype"
      ],
      "metadata": {
        "id": "G6eWCQUlvLBk"
      },
      "execution_count": null,
      "outputs": []
    },
    {
      "cell_type": "code",
      "source": [
        "# index"
      ],
      "metadata": {
        "id": "WEQltw3hvrwj"
      },
      "execution_count": null,
      "outputs": []
    },
    {
      "cell_type": "code",
      "source": [
        "# columns"
      ],
      "metadata": {
        "id": "yfzmkEZCvNNU"
      },
      "execution_count": null,
      "outputs": []
    },
    {
      "cell_type": "code",
      "source": [
        "# values"
      ],
      "metadata": {
        "id": "uVzQeTwfvO8h"
      },
      "execution_count": null,
      "outputs": []
    },
    {
      "cell_type": "code",
      "source": [
        "# head and tail"
      ],
      "metadata": {
        "id": "g6v9O1JuvPxO"
      },
      "execution_count": null,
      "outputs": []
    },
    {
      "cell_type": "code",
      "source": [
        "# sample"
      ],
      "metadata": {
        "id": "QhIqN122vZyF"
      },
      "execution_count": null,
      "outputs": []
    },
    {
      "cell_type": "code",
      "source": [
        "# info"
      ],
      "metadata": {
        "id": "rKJeok4Qvaig"
      },
      "execution_count": null,
      "outputs": []
    },
    {
      "cell_type": "code",
      "source": [
        "# describe"
      ],
      "metadata": {
        "id": "OikkCRPevgK5"
      },
      "execution_count": null,
      "outputs": []
    },
    {
      "cell_type": "code",
      "source": [
        "# isnull"
      ],
      "metadata": {
        "id": "cffM8jnww3GV"
      },
      "execution_count": null,
      "outputs": []
    },
    {
      "cell_type": "code",
      "source": [
        "# duplicated"
      ],
      "metadata": {
        "id": "vGdYd3F8w4Kl"
      },
      "execution_count": null,
      "outputs": []
    },
    {
      "cell_type": "code",
      "source": [
        "# rename"
      ],
      "metadata": {
        "id": "2Qpru22QFYrI"
      },
      "execution_count": null,
      "outputs": []
    },
    {
      "cell_type": "markdown",
      "source": [
        "### Math Methods"
      ],
      "metadata": {
        "id": "OQ-A3XU-06KG"
      }
    },
    {
      "cell_type": "code",
      "source": [
        "# sum -> axis argument"
      ],
      "metadata": {
        "id": "9agZIP-z0lc9"
      },
      "execution_count": null,
      "outputs": []
    },
    {
      "cell_type": "markdown",
      "source": [
        "### Selecting cols from a DataFrame"
      ],
      "metadata": {
        "id": "PaOsDoR01EVm"
      }
    },
    {
      "cell_type": "code",
      "source": [
        "# single cols"
      ],
      "metadata": {
        "id": "GFYaWcxk1H3H"
      },
      "execution_count": null,
      "outputs": []
    },
    {
      "cell_type": "code",
      "source": [
        "# multiple cols"
      ],
      "metadata": {
        "id": "fBmf-wef1KsY"
      },
      "execution_count": null,
      "outputs": []
    },
    {
      "cell_type": "markdown",
      "source": [
        "### Selecting rows from a DataFrame\n",
        "\n",
        "- **iloc** - searches using index positions\n",
        "- **loc** - searches using index labels "
      ],
      "metadata": {
        "id": "Xfe-uRHn2fnK"
      }
    },
    {
      "cell_type": "code",
      "source": [
        "# single row"
      ],
      "metadata": {
        "id": "jEpLIQ8o1Lqe"
      },
      "execution_count": null,
      "outputs": []
    },
    {
      "cell_type": "code",
      "source": [
        "# multiple row"
      ],
      "metadata": {
        "id": "sZ-9vwck2kWx"
      },
      "execution_count": null,
      "outputs": []
    },
    {
      "cell_type": "code",
      "source": [
        "# fancy indexing"
      ],
      "metadata": {
        "id": "jsdmIdyBlFg8"
      },
      "execution_count": null,
      "outputs": []
    },
    {
      "cell_type": "code",
      "source": [],
      "metadata": {
        "id": "tzKNGsmAjhpv"
      },
      "execution_count": null,
      "outputs": []
    },
    {
      "cell_type": "code",
      "source": [],
      "metadata": {
        "id": "hyOae7adjh2d"
      },
      "execution_count": null,
      "outputs": []
    },
    {
      "cell_type": "code",
      "source": [],
      "metadata": {
        "id": "tboUtK1djiGQ"
      },
      "execution_count": null,
      "outputs": []
    },
    {
      "cell_type": "code",
      "source": [],
      "metadata": {
        "id": "WOWnPNp6jiUK"
      },
      "execution_count": null,
      "outputs": []
    },
    {
      "cell_type": "markdown",
      "source": [
        "### Selecting both rows and cols"
      ],
      "metadata": {
        "id": "OP8KFcBiaZt-"
      }
    },
    {
      "cell_type": "code",
      "source": [],
      "metadata": {
        "id": "6QUgIi7kad1X"
      },
      "execution_count": null,
      "outputs": []
    },
    {
      "cell_type": "code",
      "source": [],
      "metadata": {
        "id": "LGrzybQ6ad_d"
      },
      "execution_count": null,
      "outputs": []
    },
    {
      "cell_type": "markdown",
      "source": [
        "### Filtering a DataFrame"
      ],
      "metadata": {
        "id": "VRAEYkfSNf9Z"
      }
    },
    {
      "cell_type": "code",
      "source": [],
      "metadata": {
        "id": "xLlq8bktvi63"
      },
      "execution_count": null,
      "outputs": []
    },
    {
      "cell_type": "code",
      "source": [
        "# find all the final winners"
      ],
      "metadata": {
        "id": "zVjGjyx7NjSR"
      },
      "execution_count": null,
      "outputs": []
    },
    {
      "cell_type": "code",
      "source": [
        "# how many super over finishes have occured"
      ],
      "metadata": {
        "id": "BxGq-wpGNjho"
      },
      "execution_count": null,
      "outputs": []
    },
    {
      "cell_type": "code",
      "source": [
        "# how many matches has csk won in kolkata"
      ],
      "metadata": {
        "id": "K8V6Z-yKNjpf"
      },
      "execution_count": null,
      "outputs": []
    },
    {
      "cell_type": "code",
      "source": [
        "# toss winner is match winner in percentage"
      ],
      "metadata": {
        "id": "S00UZa5KYBMM"
      },
      "execution_count": null,
      "outputs": []
    },
    {
      "cell_type": "code",
      "source": [
        "# movies with rating higher than 8 and votes>10000"
      ],
      "metadata": {
        "id": "5tj638VtV0hH"
      },
      "execution_count": null,
      "outputs": []
    },
    {
      "cell_type": "code",
      "source": [
        "# Action movies with rating higher than 7.5"
      ],
      "metadata": {
        "id": "AfoJr1wKNjzw"
      },
      "execution_count": null,
      "outputs": []
    },
    {
      "cell_type": "code",
      "source": [
        "# write a function that can return the track record of 2 teams against each other"
      ],
      "metadata": {
        "id": "eO5DEaswWEi_"
      },
      "execution_count": null,
      "outputs": []
    },
    {
      "cell_type": "markdown",
      "source": [
        "### Adding new cols"
      ],
      "metadata": {
        "id": "Kqf3EdS0229S"
      }
    },
    {
      "cell_type": "code",
      "source": [
        "# completely new"
      ],
      "metadata": {
        "id": "t7GmI1tn24Ge"
      },
      "execution_count": null,
      "outputs": []
    },
    {
      "cell_type": "code",
      "source": [
        "# from existing ones"
      ],
      "metadata": {
        "id": "__bvr_sX25qI"
      },
      "execution_count": null,
      "outputs": []
    },
    {
      "cell_type": "markdown",
      "source": [
        "### Important DataFrame Functions"
      ],
      "metadata": {
        "id": "B881F9xu4Bmk"
      }
    },
    {
      "cell_type": "code",
      "source": [
        "# astype"
      ],
      "metadata": {
        "id": "dd985cwtJnCW"
      },
      "execution_count": null,
      "outputs": []
    },
    {
      "cell_type": "code",
      "source": [
        "# value_counts"
      ],
      "metadata": {
        "id": "76Gugqiz4F8s"
      },
      "execution_count": null,
      "outputs": []
    },
    {
      "cell_type": "code",
      "source": [
        "# find which player has won most potm -> in finals and qualifiers"
      ],
      "metadata": {
        "id": "L9pTZNBZWqSM"
      },
      "execution_count": null,
      "outputs": []
    },
    {
      "cell_type": "code",
      "source": [
        "# Toss decision plot"
      ],
      "metadata": {
        "id": "nfqb_Ix1XKKy"
      },
      "execution_count": null,
      "outputs": []
    },
    {
      "cell_type": "code",
      "source": [
        "# how many matches each team has played"
      ],
      "metadata": {
        "id": "d7lYVfAtYL3n"
      },
      "execution_count": null,
      "outputs": []
    },
    {
      "cell_type": "code",
      "source": [
        "# sort_values -> ascending -> na_position -> inplace -> multiple cols"
      ],
      "metadata": {
        "id": "l4ds2LHi4IG7"
      },
      "execution_count": null,
      "outputs": []
    }
  ]
}