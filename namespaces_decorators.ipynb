{
  "cells": [
    {
      "cell_type": "markdown",
      "metadata": {
        "id": "Xk9kpQFIwb4q"
      },
      "source": [
        "### Namespaces\n",
        "\n",
        "A namespace is a space that holds names(identifiers).Programmatically speaking, namespaces are dictionary of identifiers(keys) and their objects(values)\n",
        "\n",
        "There are 4 types of namespaces:\n",
        "- Builtin Namespace\n",
        "- Global Namespace\n",
        "- Enclosing Namespace\n",
        "- Local Namespace"
      ]
    },
    {
      "cell_type": "markdown",
      "metadata": {
        "id": "gwHLayLAz07u"
      },
      "source": [
        "### Scope and LEGB Rule\n",
        "\n",
        "A scope is a textual region of a Python program where a namespace is directly accessible.\n",
        "\n",
        "The interpreter searches for a name from the inside out, looking in the local, enclosing, global, and finally the built-in scope. If the interpreter doesn’t find the name in any of these locations, then Python raises a NameError exception."
      ]
    },
    {
      "cell_type": "code",
      "execution_count": 2,
      "metadata": {
        "id": "je-pFfh12wH_"
      },
      "outputs": [
        {
          "name": "stdout",
          "output_type": "stream",
          "text": [
            "4\n",
            "3\n"
          ]
        }
      ],
      "source": [
        "# local and global\n",
        "\n",
        "a = 3  # global scope\n",
        "def temp():\n",
        "    b = 4  # local scope\n",
        "    print(b)\n",
        "\n",
        "temp()\n",
        "print(a)"
      ]
    },
    {
      "cell_type": "code",
      "execution_count": null,
      "metadata": {
        "id": "j8yQ5lUr2yCq"
      },
      "outputs": [],
      "source": [
        "# local and global -> same name\n",
        "\n",
        "a = 3  # global scope\n",
        "def temp():\n",
        "    b = 4  # local scope\n",
        "    a = 3\n",
        "    print(b)\n",
        "\n",
        "temp()\n",
        "print(a)"
      ]
    },
    {
      "cell_type": "code",
      "execution_count": 3,
      "metadata": {
        "id": "KGxD7YQS3We_"
      },
      "outputs": [
        {
          "name": "stdout",
          "output_type": "stream",
          "text": [
            "3\n",
            "3\n"
          ]
        }
      ],
      "source": [
        "# local and global -> local does not have but global has\n",
        "\n",
        "a = 3  # global scope\n",
        "def temp():\n",
        "    print(a)\n",
        "\n",
        "temp()\n",
        "print(a)"
      ]
    },
    {
      "cell_type": "code",
      "execution_count": 4,
      "metadata": {
        "id": "ey9-FHzM21P_"
      },
      "outputs": [
        {
          "ename": "UnboundLocalError",
          "evalue": "cannot access local variable 'a' where it is not associated with a value",
          "output_type": "error",
          "traceback": [
            "\u001b[1;31m---------------------------------------------------------------------------\u001b[0m",
            "\u001b[1;31mUnboundLocalError\u001b[0m                         Traceback (most recent call last)",
            "Cell \u001b[1;32mIn [4], line 7\u001b[0m\n\u001b[0;32m      4\u001b[0m     a \u001b[39m+\u001b[39m\u001b[39m=\u001b[39m \u001b[39m1\u001b[39m\n\u001b[0;32m      5\u001b[0m     \u001b[39mprint\u001b[39m(a)\n\u001b[1;32m----> 7\u001b[0m temp()\n\u001b[0;32m      8\u001b[0m \u001b[39mprint\u001b[39m(a)\n",
            "Cell \u001b[1;32mIn [4], line 4\u001b[0m, in \u001b[0;36mtemp\u001b[1;34m()\u001b[0m\n\u001b[0;32m      3\u001b[0m \u001b[39mdef\u001b[39;00m \u001b[39mtemp\u001b[39m():\n\u001b[1;32m----> 4\u001b[0m     a \u001b[39m+\u001b[39m\u001b[39m=\u001b[39m \u001b[39m1\u001b[39m\n\u001b[0;32m      5\u001b[0m     \u001b[39mprint\u001b[39m(a)\n",
            "\u001b[1;31mUnboundLocalError\u001b[0m: cannot access local variable 'a' where it is not associated with a value"
          ]
        }
      ],
      "source": [
        "# local and global -> editing global\n",
        "a = 3  # global scope\n",
        "def temp():\n",
        "    a += 1\n",
        "    print(a)\n",
        "\n",
        "temp()\n",
        "print(a)"
      ]
    },
    {
      "cell_type": "code",
      "execution_count": 5,
      "metadata": {},
      "outputs": [
        {
          "name": "stdout",
          "output_type": "stream",
          "text": [
            "4\n",
            "4\n"
          ]
        }
      ],
      "source": [
        "a = 3\n",
        "def temp():\n",
        "    global a\n",
        "    a += 1\n",
        "    print(a)\n",
        "\n",
        "temp()\n",
        "print(a)"
      ]
    },
    {
      "cell_type": "code",
      "execution_count": 6,
      "metadata": {
        "id": "yDkgBLQu3JIw"
      },
      "outputs": [
        {
          "name": "stdout",
          "output_type": "stream",
          "text": [
            "1\n",
            "1\n"
          ]
        }
      ],
      "source": [
        "# local and global -> global created inside local\n",
        "def temp():\n",
        "    global a\n",
        "    a = 1\n",
        "    print(a)\n",
        "\n",
        "temp()\n",
        "print(a)"
      ]
    },
    {
      "cell_type": "code",
      "execution_count": null,
      "metadata": {
        "id": "gWLr0xi024Or"
      },
      "outputs": [],
      "source": [
        "# local and global -> function parameter is local\n",
        "def temp(z):\n",
        "    print(z)\n",
        "\n",
        "a = 5\n",
        "temp(a)\n",
        "print(a)"
      ]
    },
    {
      "cell_type": "code",
      "execution_count": 7,
      "metadata": {
        "id": "P7wHSji-3q-r"
      },
      "outputs": [
        {
          "name": "stdout",
          "output_type": "stream",
          "text": [
            "Hello\n"
          ]
        }
      ],
      "source": [
        "# built-in scope\n",
        "print('Hello')"
      ]
    },
    {
      "cell_type": "code",
      "execution_count": 10,
      "metadata": {
        "id": "F769q7Nj33tX"
      },
      "outputs": [
        {
          "name": "stdout",
          "output_type": "stream",
          "text": [
            "['ArithmeticError', 'AssertionError', 'AttributeError', 'BaseException', 'BaseExceptionGroup', 'BlockingIOError', 'BrokenPipeError', 'BufferError', 'BytesWarning', 'ChildProcessError', 'ConnectionAbortedError', 'ConnectionError', 'ConnectionRefusedError', 'ConnectionResetError', 'DeprecationWarning', 'EOFError', 'Ellipsis', 'EncodingWarning', 'EnvironmentError', 'Exception', 'ExceptionGroup', 'False', 'FileExistsError', 'FileNotFoundError', 'FloatingPointError', 'FutureWarning', 'GeneratorExit', 'IOError', 'ImportError', 'ImportWarning', 'IndentationError', 'IndexError', 'InterruptedError', 'IsADirectoryError', 'KeyError', 'KeyboardInterrupt', 'LookupError', 'MemoryError', 'ModuleNotFoundError', 'NameError', 'None', 'NotADirectoryError', 'NotImplemented', 'NotImplementedError', 'OSError', 'OverflowError', 'PendingDeprecationWarning', 'PermissionError', 'ProcessLookupError', 'RecursionError', 'ReferenceError', 'ResourceWarning', 'RuntimeError', 'RuntimeWarning', 'StopAsyncIteration', 'StopIteration', 'SyntaxError', 'SyntaxWarning', 'SystemError', 'SystemExit', 'TabError', 'TimeoutError', 'True', 'TypeError', 'UnboundLocalError', 'UnicodeDecodeError', 'UnicodeEncodeError', 'UnicodeError', 'UnicodeTranslateError', 'UnicodeWarning', 'UserWarning', 'ValueError', 'Warning', 'WindowsError', 'ZeroDivisionError', '__IPYTHON__', '__build_class__', '__debug__', '__doc__', '__import__', '__loader__', '__name__', '__package__', '__spec__', 'abs', 'aiter', 'all', 'anext', 'any', 'ascii', 'bin', 'bool', 'breakpoint', 'bytearray', 'bytes', 'callable', 'chr', 'classmethod', 'compile', 'complex', 'copyright', 'credits', 'delattr', 'dict', 'dir', 'display', 'divmod', 'enumerate', 'eval', 'exec', 'execfile', 'filter', 'float', 'format', 'frozenset', 'get_ipython', 'getattr', 'globals', 'hasattr', 'hash', 'help', 'hex', 'id', 'input', 'int', 'isinstance', 'issubclass', 'iter', 'len', 'license', 'list', 'locals', 'map', 'max', 'memoryview', 'min', 'next', 'object', 'oct', 'open', 'ord', 'pow', 'print', 'property', 'range', 'repr', 'reversed', 'round', 'runfile', 'set', 'setattr', 'slice', 'sorted', 'staticmethod', 'str', 'sum', 'super', 'tuple', 'type', 'vars', 'zip']\n"
          ]
        }
      ],
      "source": [
        "# how to see all the built-ins\n",
        "import builtins\n",
        "\n",
        "print(dir(builtins))"
      ]
    },
    {
      "cell_type": "code",
      "execution_count": 12,
      "metadata": {
        "id": "Qd3fM_Ha3ruR"
      },
      "outputs": [
        {
          "ename": "TypeError",
          "evalue": "max() takes 0 positional arguments but 1 was given",
          "output_type": "error",
          "traceback": [
            "\u001b[1;31m---------------------------------------------------------------------------\u001b[0m",
            "\u001b[1;31mTypeError\u001b[0m                                 Traceback (most recent call last)",
            "Cell \u001b[1;32mIn [12], line 4\u001b[0m\n\u001b[0;32m      1\u001b[0m \u001b[39m# renaming built-ins\u001b[39;00m\n\u001b[0;32m      3\u001b[0m L \u001b[39m=\u001b[39m [\u001b[39m1\u001b[39m,\u001b[39m2\u001b[39m,\u001b[39m3\u001b[39m]\n\u001b[1;32m----> 4\u001b[0m \u001b[39mprint\u001b[39m(\u001b[39mmax\u001b[39;49m(L))\n\u001b[0;32m      5\u001b[0m \u001b[39mdef\u001b[39;00m \u001b[39mmax\u001b[39m():\n\u001b[0;32m      6\u001b[0m     \u001b[39mprint\u001b[39m(\u001b[39m'\u001b[39m\u001b[39mHello\u001b[39m\u001b[39m'\u001b[39m)\n",
            "\u001b[1;31mTypeError\u001b[0m: max() takes 0 positional arguments but 1 was given"
          ]
        }
      ],
      "source": [
        "# renaming built-ins\n",
        "\n",
        "L = [1,2,3]\n",
        "\n",
        "def max():\n",
        "    print('Hello')\n",
        "\n",
        "max(L)"
      ]
    },
    {
      "cell_type": "code",
      "execution_count": 13,
      "metadata": {
        "id": "JORTYJik4LKH"
      },
      "outputs": [
        {
          "name": "stdout",
          "output_type": "stream",
          "text": [
            "Inner function\n",
            "Outer function\n",
            "main function\n"
          ]
        }
      ],
      "source": [
        "# Enclosing scope\n",
        "\n",
        "def outer():\n",
        "    a = 5 # enclosing scope\n",
        "\n",
        "    def inner():\n",
        "        a = 10 # local scope\n",
        "        print('Inner function', a)\n",
        "\n",
        "    inner()\n",
        "    print('Outer function')\n",
        "\n",
        "a = 10 # global scope\n",
        "outer()\n",
        "print('Main function')"
      ]
    },
    {
      "cell_type": "code",
      "execution_count": 16,
      "metadata": {
        "id": "mG6ONk3I4lFX"
      },
      "outputs": [
        {
          "name": "stdout",
          "output_type": "stream",
          "text": [
            "Inner function 10\n",
            "Outer function 10\n",
            "Main function\n"
          ]
        }
      ],
      "source": [
        "# nonlocal keyword\n",
        "def outer():\n",
        "    a = 5 # enclosing scope\n",
        "\n",
        "    def inner():\n",
        "        nonlocal a\n",
        "        a += 5 # local scope\n",
        "        print('Inner function', a)\n",
        "\n",
        "    inner()\n",
        "    print('Outer function', a)\n",
        "\n",
        "outer()\n",
        "print('Main function')"
      ]
    },
    {
      "cell_type": "code",
      "execution_count": null,
      "metadata": {
        "id": "zCRkJHrP5NMx"
      },
      "outputs": [],
      "source": [
        "# Summary"
      ]
    },
    {
      "cell_type": "markdown",
      "metadata": {
        "id": "v2I4_MetLUYb"
      },
      "source": [
        "### Decorators\n",
        "\n",
        "A decorator in python is a function that receives another function as input and adds some functionality(decoration) to and it and returns it.\n",
        "\n",
        "This can happen only because python functions are 1st class citizens.\n",
        "\n",
        "There are 2 types of decorators available in python\n",
        "- `Built in decorators` like `@staticmethod`, `@classmethod`, `@abstractmethod` and `@property` etc\n",
        "- `User defined decorators` that we programmers can create according to our needs"
      ]
    },
    {
      "cell_type": "code",
      "execution_count": 17,
      "metadata": {
        "id": "PLEnpaeHUvAk"
      },
      "outputs": [
        {
          "name": "stdout",
          "output_type": "stream",
          "text": [
            "Hello World\n"
          ]
        }
      ],
      "source": [
        "# Python are 1st class function\n",
        "\n",
        "def temp():\n",
        "    print('Hello World')\n",
        "\n",
        "a = temp\n",
        "a()"
      ]
    },
    {
      "cell_type": "code",
      "execution_count": 25,
      "metadata": {
        "id": "fsyP9F9z5OSe"
      },
      "outputs": [
        {
          "name": "stdout",
          "output_type": "stream",
          "text": [
            "***********************\n",
            "Hello World\n",
            "**********************\n"
          ]
        }
      ],
      "source": [
        "# simple example\n",
        "\n",
        "def my_decorator(func):\n",
        "    def wrapper():\n",
        "        print('***********************')\n",
        "        func()\n",
        "        print('**********************')\n",
        "    return wrapper\n",
        "\n",
        "def greeting():\n",
        "    print('Hello World')\n",
        "\n",
        "\n",
        "a = my_decorator(greeting)\n",
        "a()"
      ]
    },
    {
      "cell_type": "code",
      "execution_count": null,
      "metadata": {
        "id": "3wh7a0paP4wv"
      },
      "outputs": [],
      "source": [
        "# more functions"
      ]
    },
    {
      "cell_type": "code",
      "execution_count": null,
      "metadata": {
        "id": "3rwgdym6UyV2"
      },
      "outputs": [],
      "source": [
        "# how this works -> closure?"
      ]
    },
    {
      "cell_type": "code",
      "execution_count": null,
      "metadata": {
        "id": "2JD6mQ7TNqRR"
      },
      "outputs": [],
      "source": [
        "# python tutor"
      ]
    },
    {
      "cell_type": "code",
      "execution_count": 26,
      "metadata": {
        "id": "6xenz10AVfTp"
      },
      "outputs": [
        {
          "name": "stdout",
          "output_type": "stream",
          "text": [
            "***********************\n",
            "Hello World\n",
            "**********************\n"
          ]
        }
      ],
      "source": [
        "# Better syntax?\n",
        "def my_decorator(func):\n",
        "    def wrapper():\n",
        "        print('***********************')\n",
        "        func()\n",
        "        print('**********************')\n",
        "    return wrapper\n",
        "\n",
        "@my_decorator\n",
        "def greeting():\n",
        "    print('Hello World')\n",
        "\n",
        "\n",
        "greeting()"
      ]
    },
    {
      "cell_type": "code",
      "execution_count": 32,
      "metadata": {
        "id": "JGXuT9XSP3ue"
      },
      "outputs": [
        {
          "name": "stdout",
          "output_type": "stream",
          "text": [
            "Hello World\n",
            "Time taken by hello 2.0010135173797607 secs\n",
            "4\n",
            "Time taken by square 1.000502109527588 secs\n"
          ]
        }
      ],
      "source": [
        "# anything meaningful?\n",
        "import time\n",
        "\n",
        "def timer(func):\n",
        "    def wrapper(*agrs):\n",
        "        start = time.time()\n",
        "        func(*agrs)\n",
        "        print('Time taken by', func.__name__, time.time() - start, 'secs')\n",
        "    return wrapper\n",
        "\n",
        "\n",
        "@timer\n",
        "def hello():\n",
        "    print('Hello World')\n",
        "    time.sleep(2)\n",
        "\n",
        "@timer\n",
        "def square(num):\n",
        "    time.sleep(1)\n",
        "    print(num**2)\n",
        "\n",
        "hello()\n",
        "square(2)"
      ]
    },
    {
      "cell_type": "code",
      "execution_count": null,
      "metadata": {
        "id": "tF12z0_-VG8y"
      },
      "outputs": [],
      "source": [
        "# A big problem"
      ]
    },
    {
      "cell_type": "code",
      "execution_count": null,
      "metadata": {
        "id": "WDb2Cn_PQAA9"
      },
      "outputs": [],
      "source": [
        "# One last example -> decorators with arguments"
      ]
    },
    {
      "cell_type": "code",
      "execution_count": 36,
      "metadata": {
        "id": "Ngoztw_GQEa9"
      },
      "outputs": [],
      "source": [
        "def sanity_check(data_type):\n",
        "    def outer_wrapper(func):\n",
        "        def innser_wrapper(*args):\n",
        "            if type(*args) == data_type:\n",
        "                func(*args)\n",
        "            else:\n",
        "                raise TypeError('Invalid input data type')\n",
        "        return innser_wrapper\n",
        "    return outer_wrapper"
      ]
    },
    {
      "cell_type": "code",
      "execution_count": 39,
      "metadata": {},
      "outputs": [
        {
          "name": "stdout",
          "output_type": "stream",
          "text": [
            "16\n"
          ]
        }
      ],
      "source": [
        "@sanity_check(int)\n",
        "def square(num):\n",
        "    print(num**2)\n",
        "\n",
        "\n",
        "square(4)\n",
        "# square('Hello')"
      ]
    },
    {
      "cell_type": "code",
      "execution_count": null,
      "metadata": {},
      "outputs": [],
      "source": []
    }
  ],
  "metadata": {
    "colab": {
      "provenance": []
    },
    "kernelspec": {
      "display_name": "Python 3.11.0 64-bit",
      "language": "python",
      "name": "python3"
    },
    "language_info": {
      "codemirror_mode": {
        "name": "ipython",
        "version": 3
      },
      "file_extension": ".py",
      "mimetype": "text/x-python",
      "name": "python",
      "nbconvert_exporter": "python",
      "pygments_lexer": "ipython3",
      "version": "3.11.0"
    },
    "vscode": {
      "interpreter": {
        "hash": "a9f722268e7eb76f50bfe2573dfe9bdfaf179d1f85922b765053cb6b410aebc6"
      }
    }
  },
  "nbformat": 4,
  "nbformat_minor": 0
}
