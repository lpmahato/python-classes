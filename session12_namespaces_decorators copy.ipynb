{
  "nbformat": 4,
  "nbformat_minor": 0,
  "metadata": {
    "colab": {
      "provenance": []
    },
    "kernelspec": {
      "name": "python3",
      "display_name": "Python 3"
    },
    "language_info": {
      "name": "python"
    }
  },
  "cells": [
    {
      "cell_type": "markdown",
      "source": [
        "### Namespaces\n",
        "\n",
        "A namespace is a space that holds names(identifiers).Programmatically speaking, namespaces are dictionary of identifiers(keys) and their objects(values)\n",
        "\n",
        "There are 4 types of namespaces:\n",
        "- Builtin Namespace\n",
        "- Global Namespace\n",
        "- Enclosing Namespace\n",
        "- Local Namespace"
      ],
      "metadata": {
        "id": "Xk9kpQFIwb4q"
      }
    },
    {
      "cell_type": "markdown",
      "source": [
        "### Scope and LEGB Rule\n",
        "\n",
        "A scope is a textual region of a Python program where a namespace is directly accessible.\n",
        "\n",
        "The interpreter searches for a name from the inside out, looking in the local, enclosing, global, and finally the built-in scope. If the interpreter doesn’t find the name in any of these locations, then Python raises a NameError exception."
      ],
      "metadata": {
        "id": "gwHLayLAz07u"
      }
    },
    {
      "cell_type": "code",
      "source": [
        "# local and global"
      ],
      "metadata": {
        "id": "je-pFfh12wH_"
      },
      "execution_count": null,
      "outputs": []
    },
    {
      "cell_type": "code",
      "source": [
        "# local and global -> same name"
      ],
      "metadata": {
        "id": "j8yQ5lUr2yCq"
      },
      "execution_count": null,
      "outputs": []
    },
    {
      "cell_type": "code",
      "source": [
        "# local and global -> local does not have but global has"
      ],
      "metadata": {
        "id": "KGxD7YQS3We_"
      },
      "execution_count": null,
      "outputs": []
    },
    {
      "cell_type": "code",
      "source": [
        "# local and global -> editing global"
      ],
      "metadata": {
        "id": "ey9-FHzM21P_"
      },
      "execution_count": null,
      "outputs": []
    },
    {
      "cell_type": "code",
      "source": [
        "# local and global -> global created inside local"
      ],
      "metadata": {
        "id": "yDkgBLQu3JIw"
      },
      "execution_count": null,
      "outputs": []
    },
    {
      "cell_type": "code",
      "source": [
        "# local and global -> function parameter is local"
      ],
      "metadata": {
        "id": "gWLr0xi024Or"
      },
      "execution_count": null,
      "outputs": []
    },
    {
      "cell_type": "code",
      "source": [
        "# built-in scope"
      ],
      "metadata": {
        "id": "P7wHSji-3q-r"
      },
      "execution_count": null,
      "outputs": []
    },
    {
      "cell_type": "code",
      "source": [
        "# how to see all the built-ins"
      ],
      "metadata": {
        "id": "F769q7Nj33tX"
      },
      "execution_count": null,
      "outputs": []
    },
    {
      "cell_type": "code",
      "source": [
        "# renaming built-ins"
      ],
      "metadata": {
        "id": "Qd3fM_Ha3ruR"
      },
      "execution_count": null,
      "outputs": []
    },
    {
      "cell_type": "code",
      "source": [
        "# Enclosing scope"
      ],
      "metadata": {
        "id": "JORTYJik4LKH"
      },
      "execution_count": null,
      "outputs": []
    },
    {
      "cell_type": "code",
      "source": [
        "# nonlocal keyword"
      ],
      "metadata": {
        "id": "mG6ONk3I4lFX"
      },
      "execution_count": null,
      "outputs": []
    },
    {
      "cell_type": "code",
      "source": [
        "# Summary"
      ],
      "metadata": {
        "id": "zCRkJHrP5NMx"
      },
      "execution_count": null,
      "outputs": []
    },
    {
      "cell_type": "markdown",
      "source": [
        "### Decorators\n",
        "\n",
        "A decorator in python is a function that receives another function as input and adds some functionality(decoration) to and it and returns it.\n",
        "\n",
        "This can happen only because python functions are 1st class citizens.\n",
        "\n",
        "There are 2 types of decorators available in python\n",
        "- `Built in decorators` like `@staticmethod`, `@classmethod`, `@abstractmethod` and `@property` etc\n",
        "- `User defined decorators` that we programmers can create according to our needs"
      ],
      "metadata": {
        "id": "v2I4_MetLUYb"
      }
    },
    {
      "cell_type": "code",
      "source": [
        "# Python are 1st class function"
      ],
      "metadata": {
        "id": "PLEnpaeHUvAk"
      },
      "execution_count": null,
      "outputs": []
    },
    {
      "cell_type": "code",
      "source": [
        "# simple example"
      ],
      "metadata": {
        "id": "fsyP9F9z5OSe"
      },
      "execution_count": null,
      "outputs": []
    },
    {
      "cell_type": "code",
      "source": [
        "# more functions"
      ],
      "metadata": {
        "id": "3wh7a0paP4wv"
      },
      "execution_count": null,
      "outputs": []
    },
    {
      "cell_type": "code",
      "source": [
        "# how this works -> closure?"
      ],
      "metadata": {
        "id": "3rwgdym6UyV2"
      },
      "execution_count": null,
      "outputs": []
    },
    {
      "cell_type": "code",
      "source": [
        "# python tutor"
      ],
      "metadata": {
        "id": "2JD6mQ7TNqRR"
      },
      "execution_count": null,
      "outputs": []
    },
    {
      "cell_type": "code",
      "source": [
        "# Better syntax?"
      ],
      "metadata": {
        "id": "6xenz10AVfTp"
      },
      "execution_count": null,
      "outputs": []
    },
    {
      "cell_type": "code",
      "source": [
        "# anything meaningful?"
      ],
      "metadata": {
        "id": "JGXuT9XSP3ue"
      },
      "execution_count": null,
      "outputs": []
    },
    {
      "cell_type": "code",
      "source": [
        "# A big problem"
      ],
      "metadata": {
        "id": "tF12z0_-VG8y"
      },
      "execution_count": null,
      "outputs": []
    },
    {
      "cell_type": "code",
      "source": [
        "# One last example -> decorators with arguments"
      ],
      "metadata": {
        "id": "WDb2Cn_PQAA9"
      },
      "execution_count": null,
      "outputs": []
    },
    {
      "cell_type": "code",
      "source": [],
      "metadata": {
        "id": "Ngoztw_GQEa9"
      },
      "execution_count": null,
      "outputs": []
    }
  ]
}